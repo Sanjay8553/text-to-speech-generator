{
 "cells": [
  {
   "cell_type": "code",
   "execution_count": 1,
   "id": "1e582ff6",
   "metadata": {},
   "outputs": [
    {
     "name": "stderr",
     "output_type": "stream",
     "text": [
      "[nltk_data] Downloading package punkt to\n",
      "[nltk_data]     C:\\Users\\Sanjay\\AppData\\Roaming\\nltk_data...\n",
      "[nltk_data]   Package punkt is already up-to-date!\n"
     ]
    },
    {
     "name": "stdout",
     "output_type": "stream",
     "text": [
      "Enter the text to convert to audio: In conclusion. Business continuity disaster recovery help an organization to reduce overall risk, get back up and running after an outage or disruption, mitigate the risk of data loss and protect against damages\n",
      "Enter the language (en): en\n",
      "Enter the voice (english): english\n",
      "Enter the gender (male/female): male\n",
      "Enter the accent (us/uk/au): us\n",
      "Enter the delay time in seconds (default=0.5): 2\n",
      "Enter the speaking speed in words per minute (default=200): 150\n",
      "Audio saved as male_us.mp3 and available for download at: https://file.io/uxQi3OUCPF3Q\n"
     ]
    }
   ],
   "source": [
    "import pyttsx3\n",
    "import time\n",
    "import os\n",
    "import requests\n",
    "import nltk\n",
    "\n",
    "# Download the nltk punkt package for sentence tokenization\n",
    "nltk.download('punkt')\n",
    "\n",
    "# Set the language and default voice for the audio\n",
    "language = 'en'\n",
    "voice = 'english'\n",
    "gender = 'male'\n",
    "accent = 'us'\n",
    "\n",
    "# Define the available voices for each language\n",
    "voices = {\n",
    "    'en': {\n",
    "        'english': {\n",
    "            'male': {\n",
    "                'us': 'com.apple.speech.synthesis.voice.Alex',\n",
    "                'uk': 'com.apple.speech.synthesis.voice.daniel',\n",
    "                'au': 'com.apple.speech.synthesis.voice.lee',\n",
    "            },\n",
    "            'female': {\n",
    "                'us': 'com.apple.speech.synthesis.voice.Victoria',\n",
    "                'uk': 'com.apple.speech.synthesis.voice.samantha',\n",
    "                'au': 'com.apple.speech.synthesis.voice.karen',\n",
    "            }\n",
    "        }\n",
    "    }\n",
    "}\n",
    "\n",
    "# Create the text-to-speech engine\n",
    "engine = pyttsx3.init()\n",
    "\n",
    "# Define a function to convert text to audio and add delay\n",
    "def speak_text(text, delay=0.5, speed=200):\n",
    "    # Set the language and accent for the engine\n",
    "    voice_id = voices[language][voice][gender][accent]\n",
    "    engine.setProperty('voice', voice_id)\n",
    "    # Set the speaking rate\n",
    "    engine.setProperty('rate', speed)\n",
    "    # Split the text into sentences\n",
    "    sentences = nltk.sent_tokenize(text)\n",
    "    # Iterate through each sentence and add a delay before speaking it\n",
    "    for sentence in sentences:\n",
    "        # Convert the sentence to audio\n",
    "        engine.say(sentence)\n",
    "        engine.runAndWait()\n",
    "        # Wait for the specified delay before speaking the next sentence\n",
    "        time.sleep(delay)\n",
    "\n",
    "# Prompt the user to enter the text to be converted into audio\n",
    "text = input(\"Enter the text to convert to audio: \")\n",
    "\n",
    "# Prompt the user to select the language and voice\n",
    "language = input(\"Enter the language (en): \")\n",
    "voice = input(\"Enter the voice (english): \")\n",
    "gender = input(\"Enter the gender (male/female): \")\n",
    "accent = input(\"Enter the accent (us/uk/au): \")\n",
    "\n",
    "# Prompt the user to select the delay time and speaking speed\n",
    "delay = float(input(\"Enter the delay time in seconds (default=0.5): \"))\n",
    "speed = int(input(\"Enter the speaking speed in words per minute (default=200): \"))\n",
    "\n",
    "# Convert the text to audio with the selected settings\n",
    "speak_text(text, delay, speed)\n",
    "\n",
    "# Save the audio file and download it\n",
    "file_name = f\"{gender}_{accent}.mp3\"\n",
    "file_path = os.path.join(os.getcwd(), file_name)\n",
    "engine.save_to_file(text, file_path)\n",
    "engine.runAndWait()\n",
    "\n",
    "with open(file_path, 'rb') as f:\n",
    "    url = requests.post('https://file.io', files={'file': f}).json()['link']\n",
    "    print(f\"Audio saved as {file_name} and available for download at: {url}\")\n",
    "    \n",
    "# Remove the audio file\n",
    "os.remove(file_path)\n"
   ]
  },
  {
   "cell_type": "code",
   "execution_count": null,
   "id": "18ff8cd5",
   "metadata": {},
   "outputs": [],
   "source": []
  },
  {
   "cell_type": "code",
   "execution_count": null,
   "id": "3e6676e7",
   "metadata": {},
   "outputs": [],
   "source": []
  }
 ],
 "metadata": {
  "kernelspec": {
   "display_name": "Python 3 (ipykernel)",
   "language": "python",
   "name": "python3"
  },
  "language_info": {
   "codemirror_mode": {
    "name": "ipython",
    "version": 3
   },
   "file_extension": ".py",
   "mimetype": "text/x-python",
   "name": "python",
   "nbconvert_exporter": "python",
   "pygments_lexer": "ipython3",
   "version": "3.9.0"
  }
 },
 "nbformat": 4,
 "nbformat_minor": 5
}
